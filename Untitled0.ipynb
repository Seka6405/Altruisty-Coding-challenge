{
  "nbformat": 4,
  "nbformat_minor": 0,
  "metadata": {
    "colab": {
      "provenance": []
    },
    "kernelspec": {
      "name": "python3",
      "display_name": "Python 3"
    },
    "language_info": {
      "name": "python"
    }
  },
  "cells": [
    {
      "cell_type": "code",
      "execution_count": 2,
      "metadata": {
        "colab": {
          "base_uri": "https://localhost:8080/"
        },
        "id": "kOTPDtdvo-R0",
        "outputId": "23ebc1af-9840-4ec0-8a25-cd130f6f84d2"
      },
      "outputs": [
        {
          "output_type": "stream",
          "name": "stdout",
          "text": [
            "6\n",
            "3 5 1 5 2 3\n",
            "[1, 2]\n"
          ]
        }
      ],
      "source": [
        "def find_single_numbers(arr, N):\n",
        "    xor_result = 0\n",
        "    for num in arr:\n",
        "        xor_result ^= num\n",
        "\n",
        "    set_bit = xor_result & -xor_result\n",
        "\n",
        "    num1, num2 = 0, 0\n",
        "    for num in arr:\n",
        "        if num & set_bit:\n",
        "            num1 ^= num\n",
        "        else:\n",
        "            num2 ^= num\n",
        "\n",
        "    return sorted([num1, num2])\n",
        "N=int(input())\n",
        "arr=list(map(int,input().split()))\n",
        "\n",
        "print(find_single_numbers(arr, N))\n",
        "\n"
      ]
    },
    {
      "cell_type": "code",
      "source": [
        "def word_break(n, s, dictionary):\n",
        "    dp = [0] * (len(s) + 1)\n",
        "    dp[0] = 1\n",
        "\n",
        "    for i in range(1, len(s) + 1):\n",
        "        for word in dictionary:\n",
        "            if dp[i - len(word)] and s[i - len(word):i] == word:\n",
        "                dp[i] = 1\n",
        "                break\n",
        "\n",
        "    return dp[len(s)]\n",
        "\n",
        "n = 6\n",
        "s = \"ilike\"\n",
        "dictionary = {\"i\", \"like\", \"sam\", \"sung\", \"samsung\", \"mobile\"}\n",
        "print(word_break(n, s, dictionary))\n"
      ],
      "metadata": {
        "colab": {
          "base_uri": "https://localhost:8080/"
        },
        "id": "aLRmuDpwqE-5",
        "outputId": "ff45e256-3985-4d04-de0f-f59a825e93e5"
      },
      "execution_count": 3,
      "outputs": [
        {
          "output_type": "stream",
          "name": "stdout",
          "text": [
            "1\n"
          ]
        }
      ]
    },
    {
      "cell_type": "code",
      "source": [
        "def is_stepping_number(num):\n",
        "    prev_digit = -1\n",
        "    while num > 0:\n",
        "        current_digit = num % 10\n",
        "        if prev_digit != -1 and abs(current_digit - prev_digit) != 1:\n",
        "            return False\n",
        "        prev_digit = current_digit\n",
        "        num //= 10\n",
        "    return True\n",
        "\n",
        "def find_stepping_numbers(n, m):\n",
        "    stepping_numbers = []\n",
        "    for num in range(n, m + 1):\n",
        "        if is_stepping_number(num):\n",
        "            stepping_numbers.append(num)\n",
        "    return stepping_numbers\n",
        "\n",
        "if __name__ == \"__main__\":\n",
        "    n, m = map(int, input().split())\n",
        "    stepping_numbers = find_stepping_numbers(n, m)\n",
        "    print(\" \".join(map(str, stepping_numbers)))\n"
      ],
      "metadata": {
        "colab": {
          "base_uri": "https://localhost:8080/"
        },
        "id": "Fxv66VJ1qvzO",
        "outputId": "3bdac77e-e626-448f-cea5-3621a97b6748"
      },
      "execution_count": 5,
      "outputs": [
        {
          "output_type": "stream",
          "name": "stdout",
          "text": [
            "100 500\n",
            "101 121 123 210 212 232 234 321 323 343 345 432 434 454 456\n"
          ]
        }
      ]
    },
    {
      "cell_type": "code",
      "source": [
        "def max_discount(tickets, k):\n",
        "    n = len(tickets)\n",
        "    if k >= n:\n",
        "        return '0'\n",
        "\n",
        "    stack = []\n",
        "    for i in range(n):\n",
        "        while k > 0 and stack and stack[-1] > tickets[i]:\n",
        "            stack.pop()\n",
        "            k -= 1\n",
        "        stack.append(tickets[i])\n",
        "\n",
        "\n",
        "    while k > 0:\n",
        "        stack.pop()\n",
        "        k -= 1\n",
        "\n",
        "    result = ''.join(stack).lstrip('0')\n",
        "\n",
        "    return result if result else '0'\n",
        "\n",
        "tickets = input().strip()\n",
        "k = int(input().strip())\n",
        "\n",
        "print(max_discount(tickets, k))\n"
      ],
      "metadata": {
        "colab": {
          "base_uri": "https://localhost:8080/"
        },
        "id": "JYEt87uKrT4F",
        "outputId": "e2025526-7d4d-40b0-be65-7836c7b1fa25"
      },
      "execution_count": 7,
      "outputs": [
        {
          "output_type": "stream",
          "name": "stdout",
          "text": [
            "203\n",
            "2\n",
            "0\n"
          ]
        }
      ]
    },
    {
      "cell_type": "code",
      "source": [
        "def getMaxToys(prices, money):\n",
        "    n = len(prices)\n",
        "    max_toys = 0\n",
        "    current_sum = 0\n",
        "    start = 0\n",
        "\n",
        "    for end in range(n):\n",
        "        current_sum += prices[end]\n",
        "\n",
        "        while current_sum > money:\n",
        "            current_sum -= prices[start]\n",
        "            start += 1\n",
        "\n",
        "        max_toys = max(max_toys, end - start + 1)\n",
        "\n",
        "    return max_toys\n",
        "\n",
        "n=int(input())\n",
        "prices = list(map(int,input().split()))\n",
        "money = int(input())\n",
        "print(getMaxToys(prices, money))\n"
      ],
      "metadata": {
        "colab": {
          "base_uri": "https://localhost:8080/"
        },
        "id": "_ldEKLQQr39L",
        "outputId": "d6deaf28-9cf9-4e2e-f14e-c4a79f980348"
      },
      "execution_count": 8,
      "outputs": [
        {
          "output_type": "stream",
          "name": "stdout",
          "text": [
            "7\n",
            "1 4 5 3 2 1 6\n",
            "6\n",
            "3\n"
          ]
        }
      ]
    }
  ]
}